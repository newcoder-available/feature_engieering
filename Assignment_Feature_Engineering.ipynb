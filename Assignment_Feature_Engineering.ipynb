{
  "cells": [
    {
      "cell_type": "markdown",
      "id": "13b5e3f8",
      "metadata": {
        "id": "13b5e3f8"
      },
      "source": [
        "### 1. What is a parameter?\n",
        "\n",
        "A **parameter** is a configuration variable that is internal to the model and whose value can be estimated from data. In machine learning, parameters are the parts of the model that are learned from the historical training data, such as weights in a linear regression model."
      ]
    },
    {
      "cell_type": "markdown",
      "id": "16bfc0d1",
      "metadata": {
        "id": "16bfc0d1"
      },
      "source": [
        "### 2. What is correlation?  What does negative correlation mean?\n",
        "\n",
        "Correlation is a statistical measure that expresses the extent to which two variables are linearly related. It ranges from -1 to 1.\n",
        "\n",
        "Negative correlation means that as one variable increases, the other variable tends to decrease. For example, if hours of study increase and the number of errors in a test decreases, they are negatively correlated."
      ]
    },
    {
      "cell_type": "markdown",
      "id": "de19d7ba",
      "metadata": {
        "id": "de19d7ba"
      },
      "source": [
        "### 3. Define Machine Learning. What are the main components in Machine Learning?\n",
        "\n",
        "Machine Learning is a subset of artificial intelligence that enables systems to learn from data and make predictions. Main components include:\n",
        "- Data\n",
        "- Model\n",
        "- Loss function\n",
        "- Optimizer\n",
        "- Evaluation metrics"
      ]
    },
    {
      "cell_type": "markdown",
      "id": "11c6425d",
      "metadata": {
        "id": "11c6425d"
      },
      "source": [
        "### 4. How does loss value help in determining whether the model is good or not?\n",
        "\n",
        "The loss value quantifies how far off a model's predictions are from the actual values. Lower loss indicates a better performing model."
      ]
    },
    {
      "cell_type": "markdown",
      "id": "f50ba7a3",
      "metadata": {
        "id": "f50ba7a3"
      },
      "source": [
        "### 5. What are continuous and categorical variables?\n",
        "\n",
        "- **Continuous variables** can take any value (e.g., height, weight).\n",
        "- **Categorical variables** take fixed values from a limited set (e.g., colors, gender)."
      ]
    },
    {
      "cell_type": "markdown",
      "id": "b64908ae",
      "metadata": {
        "id": "b64908ae"
      },
      "source": [
        "### 6. How do we handle categorical variables in Machine Learning? What are the common techniques?\n",
        "\n",
        "Techniques include:\n",
        "- Label Encoding\n",
        "- One-Hot Encoding\n",
        "- Ordinal Encoding"
      ]
    },
    {
      "cell_type": "markdown",
      "id": "1f53ef63",
      "metadata": {
        "id": "1f53ef63"
      },
      "source": [
        "### 7. What do you mean by training and testing a dataset?\n",
        "\n",
        "Training a dataset means using it to fit the model. Testing dataset is used to evaluate how well the model performs on unseen data."
      ]
    },
    {
      "cell_type": "markdown",
      "id": "2cd9c456",
      "metadata": {
        "id": "2cd9c456"
      },
      "source": [
        "### 8. What is sklearn.preprocessing?\n",
        "\n",
        "`sklearn.preprocessing` is a module in Scikit-learn used to prepare data before training. It includes functions for scaling, encoding, and transforming data."
      ]
    },
    {
      "cell_type": "markdown",
      "id": "e0e46aba",
      "metadata": {
        "id": "e0e46aba"
      },
      "source": [
        "### 9. What is a Test set?\n",
        "\n",
        "The test set is a subset of data used to assess the performance of a trained model."
      ]
    },
    {
      "cell_type": "markdown",
      "id": "78e70ec5",
      "metadata": {
        "id": "78e70ec5"
      },
      "source": [
        "### 10. How do we split data for model fitting (training and testing) in Python?  How do you approach a Machine Learning problem?\n",
        "\n",
        "Using `train_test_split` from `sklearn.model_selection`:\n",
        "```python\n",
        "from sklearn.model_selection import train_test_split\n",
        "X_train, X_test, y_train, y_test = train_test_split(X, y, test_size=0.2)\n",
        "\n",
        "```\n",
        "\n",
        "#### How do we approach a ML Problem:\n",
        "\n",
        "1. Define the problem\n",
        "2. Collect data\n",
        "3. Perform EDA\n",
        "4. Preprocess data\n",
        "5. Train model\n",
        "6. Evaluate model\n",
        "7. Tune hyperparameters"
      ]
    },
    {
      "cell_type": "markdown",
      "id": "11f7abf5",
      "metadata": {
        "id": "11f7abf5"
      },
      "source": [
        "### 11. Why do we have to perform EDA before fitting a model to the data?\n",
        "\n",
        "EDA helps us understand data distribution, missing values, relationships, and outliers, which guide data preprocessing and model choice."
      ]
    },
    {
      "cell_type": "markdown",
      "id": "0ef7c6b5",
      "metadata": {
        "id": "0ef7c6b5"
      },
      "source": [
        "### 14. How can you find correlation between variables in Python?\n",
        "\n",
        "Using pandas:\n",
        "```python\n",
        "df.corr()\n",
        "```"
      ]
    },
    {
      "cell_type": "markdown",
      "id": "08ff4c88",
      "metadata": {
        "id": "08ff4c88"
      },
      "source": [
        "### 15. What is causation? Explain difference between correlation and causation with an example.\n",
        "\n",
        "- **Causation** means one variable directly affects another.\n",
        "- **Correlation** means a relationship exists, but not necessarily causation.\n",
        "Example: Ice cream sales and drowning deaths are correlated (due to summer), but one does not cause the other."
      ]
    },
    {
      "cell_type": "markdown",
      "id": "04f2b031",
      "metadata": {
        "id": "04f2b031"
      },
      "source": [
        "### 16. What is an Optimizer? What are different types of optimizers? Explain each with an example.\n",
        "\n",
        "An optimizer adjusts model parameters to minimize loss. Common optimizers:\n",
        "- SGD: Stochastic Gradient Descent\n",
        "- Adam: Adaptive Moment Estimation\n",
        "- RMSprop: Root Mean Square Propagation"
      ]
    },
    {
      "cell_type": "markdown",
      "id": "0fcbc468",
      "metadata": {
        "id": "0fcbc468"
      },
      "source": [
        "### 17. What is sklearn.linear_model?\n",
        "\n",
        "It is a module in Scikit-learn for linear models such as Linear Regression, Logistic Regression."
      ]
    },
    {
      "cell_type": "markdown",
      "id": "a2d5fdd7",
      "metadata": {
        "id": "a2d5fdd7"
      },
      "source": [
        "### 18. What does model.fit() do? What arguments must be given?\n",
        "\n",
        "`model.fit(X, y)` trains the model using features `X` and target `y`."
      ]
    },
    {
      "cell_type": "markdown",
      "id": "ceb7ba2c",
      "metadata": {
        "id": "ceb7ba2c"
      },
      "source": [
        "### 19. What does model.predict() do? What arguments must be given?\n",
        "\n",
        "`model.predict(X_test)` predicts outcomes for new data `X_test` using the trained model."
      ]
    },
    {
      "cell_type": "markdown",
      "id": "a5d8c121",
      "metadata": {
        "id": "a5d8c121"
      },
      "source": [
        "### 22. What is feature scaling? How does it help in Machine Learning?\n",
        "\n",
        "Feature scaling standardizes the range of independent variables. It helps algorithms like SVM or KNN that rely on distances."
      ]
    },
    {
      "cell_type": "markdown",
      "id": "ab14dcf1",
      "metadata": {
        "id": "ab14dcf1"
      },
      "source": [
        "### 23. How do we perform scaling in Python?\n",
        "\n",
        "Using `StandardScaler` or `MinMaxScaler` from sklearn:\n",
        "```python\n",
        "from sklearn.preprocessing import StandardScaler\n",
        "scaler = StandardScaler()\n",
        "X_scaled = scaler.fit_transform(X)\n",
        "```"
      ]
    },
    {
      "cell_type": "markdown",
      "id": "d6794746",
      "metadata": {
        "id": "d6794746"
      },
      "source": [
        "### 25. Explain data encoding?\n",
        "\n",
        "Data encoding transforms categorical variables into numerical format. Common methods include label and one-hot encoding."
      ]
    }
  ],
  "metadata": {
    "colab": {
      "provenance": []
    }
  },
  "nbformat": 4,
  "nbformat_minor": 5
}